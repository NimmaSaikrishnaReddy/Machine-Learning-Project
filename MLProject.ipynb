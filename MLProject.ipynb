{
  "nbformat": 4,
  "nbformat_minor": 0,
  "metadata": {
    "colab": {
      "name": "MLProject.ipynb",
      "provenance": [],
      "collapsed_sections": [],
      "authorship_tag": "ABX9TyM71vSiyt/ZhFFo09DKyjEw",
      "include_colab_link": true
    },
    "kernelspec": {
      "name": "python3",
      "display_name": "Python 3"
    },
    "language_info": {
      "name": "python"
    }
  },
  "cells": [
    {
      "cell_type": "markdown",
      "metadata": {
        "id": "view-in-github",
        "colab_type": "text"
      },
      "source": [
        "<a href=\"https://colab.research.google.com/github/NimmaSaikrishnaReddy/School-Management-Android-App-project-with-Java/blob/main/MLProject.ipynb\" target=\"_parent\"><img src=\"https://colab.research.google.com/assets/colab-badge.svg\" alt=\"Open In Colab\"/></a>"
      ]
    },
    {
      "cell_type": "markdown",
      "source": [
        "**Machine Learning Project** \n",
        "\n",
        "\n",
        "\n",
        "**NIMMA SAIKRISHNA REDDY**\n",
        "\n",
        "**221910304036**"
      ],
      "metadata": {
        "id": "tnMXvu8F5WiB"
      }
    },
    {
      "cell_type": "markdown",
      "source": [
        "# New Section"
      ],
      "metadata": {
        "id": "4gSxp_XFMmuC"
      }
    },
    {
      "cell_type": "markdown",
      "source": [
        "# New Section"
      ],
      "metadata": {
        "id": "g1SYtwIGQBQm"
      }
    },
    {
      "cell_type": "markdown",
      "source": [
        "**K-MEANS CLUSTERING:**\n",
        "\n",
        "***DEFINATION OF K-MEANS CLUSTERING:***K-Means Clustering is an Unsupervised Learning algorithm\n",
        ", which groups the unlabeled dataset into different clusters. \n",
        "\n",
        " K defines the number of pre-defined clusters that need to \n",
        "be created in the process, as if K=2, there will be two clusters, and for K=3, there will be three clusters, and so on."
      ],
      "metadata": {
        "id": "sNG1A_EY4VNx"
      }
    },
    {
      "cell_type": "markdown",
      "source": [
        "**The working of the K-Means algorithm is explained in the below steps:**\n",
        "\n",
        "Step-1: Select the number K to decide the number of clusters.\n",
        "\n",
        "Step-2: Select random K points or centroids. (It can be other from the input dataset).\n",
        "\n",
        "Step-3: Assign each data point to their closest centroid, which will form the predefined K clusters.\n",
        "\n",
        "Step-4: Calculate the variance and place a new centroid of each cluster.\n",
        "\n",
        "Step-5: Repeat the third steps, which means reassign each datapoint to the new closest centroid of each cluster.\n",
        "\n",
        "Step-6: If any reassignment occurs, then go to step-4 else go to FINISH.\n",
        "\n",
        "Step-7: The model is ready."
      ],
      "metadata": {
        "id": "M70N-C714XPw"
      }
    },
    {
      "cell_type": "code",
      "execution_count": null,
      "metadata": {
        "id": "UUF7AObi73Ae"
      },
      "outputs": [],
      "source": [
        "import pandas as pd\n",
        "import matplotlib.pyplot as plt\n",
        "from sklearn.cluster import KMeans"
      ]
    },
    {
      "cell_type": "markdown",
      "source": [
        ""
      ],
      "metadata": {
        "id": "nZJoqdFR4S8S"
      }
    },
    {
      "cell_type": "code",
      "source": [
        "data = pd.read_csv(\"/content/Iris1.csv\")\n",
        "plt.figure(figsize=(5,5))\n",
        "plt.scatter(data[\"SepalLengthCm\"],data[\"SepalWidthCm\"])\n",
        "plt.xlabel('SepalLengthCm')\n",
        "plt.ylabel('SepalWidthCm')\n",
        "plt.title('Data Distribution')\n",
        "plt.show()"
      ],
      "metadata": {
        "colab": {
          "base_uri": "https://localhost:8080/",
          "height": 350
        },
        "id": "DDhALFz08CJu",
        "outputId": "6aa3d0e6-a32b-4c28-ba50-844f18336baa"
      },
      "execution_count": null,
      "outputs": [
        {
          "output_type": "display_data",
          "data": {
            "text/plain": [
              "<Figure size 360x360 with 1 Axes>"
            ],
            "image/png": "[encoded data removed]"
          },
          "metadata": {
            "needs_background": "light"
          }
        }
      ]
    },
    {
      "cell_type": "code",
      "source": [
        "kmeans = KMeans(n_clusters=4)\n",
        "kmeans.fit(data)"
      ],
      "metadata": {
        "colab": {
          "base_uri": "https://localhost:8080/"
        },
        "id": "JUYbYryV8CN5",
        "outputId": "71d4ad32-c292-4dd7-d69c-c8cdd7370678"
      },
      "execution_count": null,
      "outputs": [
        {
          "output_type": "execute_result",
          "data": {
            "text/plain": [
              "KMeans(n_clusters=4)"
            ]
          },
          "metadata": {},
          "execution_count": 5
        }
      ]
    },
    {
      "cell_type": "code",
      "source": [
        "                                                                                                                                                                                                                                                                                                                                                                                                                                                                                                                                                                                                                                                                                                                                                                                                                                                                                                                                                                                                                                                                                                                                                                                                                                                                                                                                                                                                                                                                                                                                                                                                                                                                                                                                                                                                                                                                                                                                                                                                                                                                                                                                                                                                                                                                                                                                                                                                                                                                                                                                                                                                                                              pred = kmeans.predict(data)\n",
        "frame = pd.DataFrame(data)\n",
        "print(data)"
      ],
      "metadata": {
        "colab": {
          "base_uri": "https://localhost:8080/"
        },
        "id": "Jurl16n78CRV",
        "outputId": "1209740f-572e-45f7-b899-72e95af7c6f5"
      },
      "execution_count": null,
      "outputs": [
        {
          "output_type": "stream",
          "name": "stdout",
          "text": [
            "     SepalLengthCm  SepalWidthCm\n",
            "0              5.1           3.5\n",
            "1              4.9           3.0\n",
            "2              4.7           3.2\n",
            "3              4.6           3.1\n",
            "4              5.0           3.6\n",
            "..             ...           ...\n",
            "145            6.7           3.0\n",
            "146            6.3           2.5\n",
            "147            6.5           3.0\n",
            "148            6.2           3.4\n",
            "149            5.9           3.0\n",
            "\n",
            "[150 rows x 2 columns]\n"
          ]
        }
      ]
    },
    {
      "cell_type": "code",
      "source": [
        "frame['cluster'] = pred\n",
        "frame.columns = ['SepalLengthCm', 'SepalWidthCm', 'cluster']\n",
        "print(data)\n",
        "color=['blue','green','red', 'black']"
      ],
      "metadata": {
        "colab": {
          "base_uri": "https://localhost:8080/"
        },
        "id": "DZrUd7Cg8CS7",
        "outputId": "1d4d4ba7-8552-419c-a262-a48e5f323aba"
      },
      "execution_count": null,
      "outputs": [
        {
          "output_type": "stream",
          "name": "stdout",
          "text": [
            "     SepalLengthCm  SepalWidthCm  cluster\n",
            "0              5.1           3.5        3\n",
            "1              4.9           3.0        1\n",
            "2              4.7           3.2        1\n",
            "3              4.6           3.1        1\n",
            "4              5.0           3.6        3\n",
            "..             ...           ...      ...\n",
            "145            6.7           3.0        2\n",
            "146            6.3           2.5        0\n",
            "147            6.5           3.0        2\n",
            "148            6.2           3.4        0\n",
            "149            5.9           3.0        0\n",
            "\n",
            "[150 rows x 3 columns]\n"
          ]
        }
      ]
    },
    {
      "cell_type": "code",
      "source": [
        "for k in range(0,4):\n",
        " data = frame[frame[\"cluster\"]==k]\n",
        " plt.scatter(data[\"SepalLengthCm\"],data[\"SepalWidthCm\"],color=color[k])\n",
        "plt.show()"
      ],
      "metadata": {
        "colab": {
          "base_uri": "https://localhost:8080/",
          "height": 268
        },
        "id": "-Y4VX5t_8CVg",
        "outputId": "c58e3669-19e9-4090-8c23-285d77e59571"
      },
      "execution_count": null,
      "outputs": [
        {
          "output_type": "display_data",
          "data": {
            "text/plain": [
              "<Figure size 432x288 with 1 Axes>"
            ],
            "image/png": "[encoded data removed]"
          },
          "metadata": {
            "needs_background": "light"
          }
        }
      ]
    },
    {
      "cell_type": "code",
      "source": [
        "data = pd.read_csv(\"/content/iris2.csv\")\n",
        "plt.figure(figsize=(7,7))\n",
        "plt.scatter(data[\"petal_length\"],data[\"petal_width\"])\n",
        "plt.xlabel('petal_length')\n",
        "plt.ylabel('petal_width')\n",
        "plt.title('Data Distribution')\n",
        "plt.show()"
      ],
      "metadata": {
        "colab": {
          "base_uri": "https://localhost:8080/",
          "height": 459
        },
        "id": "FlZdPSoF8CXE",
        "outputId": "b4dadfaa-363b-43eb-9267-7a3f260e2ba0"
      },
      "execution_count": null,
      "outputs": [
        {
          "output_type": "display_data",
          "data": {
            "text/plain": [
              "<Figure size 504x504 with 1 Axes>"
            ],
            "image/png": "[encoded data removed]"
          },
          "metadata": {
            "needs_background": "light"
          }
        }
      ]
    },
    {
      "cell_type": "code",
      "source": [
        "kmeans = KMeans(n_clusters=4)\n",
        "kmeans.fit(data)"
      ],
      "metadata": {
        "colab": {
          "base_uri": "https://localhost:8080/"
        },
        "id": "fJ35lRO-8CZ8",
        "outputId": "db6a79ee-56e9-48fa-99a2-f51e77633f91"
      },
      "execution_count": null,
      "outputs": [
        {
          "output_type": "execute_result",
          "data": {
            "text/plain": [
              "KMeans(n_clusters=4)"
            ]
          },
          "metadata": {},
          "execution_count": 18
        }
      ]
    },
    {
      "cell_type": "code",
      "source": [
        "pred = kmeans.predict(data)\n",
        "frame = pd.DataFrame(data)\n",
        "\n"
      ],
      "metadata": {
        "id": "yKMNBZ9d8Cb7"
      },
      "execution_count": null,
      "outputs": []
    },
    {
      "cell_type": "code",
      "source": [
        "frame['cluster'] = pred\n",
        "frame.columns = ['petal_length', 'petal_width', 'cluster']\n",
        "\n",
        "color=['blue','green','red', 'black']"
      ],
      "metadata": {
        "id": "OsIfPN-X8Cd9"
      },
      "execution_count": null,
      "outputs": []
    },
    {
      "cell_type": "code",
      "source": [
        "for k in range(0,4):\n",
        " data = frame[frame[\"cluster\"]==k]\n",
        " plt.scatter(data[\"petal_length\"],data[\"petal_width\"],color=color[k])\n",
        "plt.show()\n"
      ],
      "metadata": {
        "colab": {
          "base_uri": "https://localhost:8080/",
          "height": 265
        },
        "id": "MxQGYYB18CfR",
        "outputId": "2b795e5c-0845-48df-8986-83d57813f885"
      },
      "execution_count": null,
      "outputs": [
        {
          "output_type": "display_data",
          "data": {
            "text/plain": [
              "<Figure size 432x288 with 1 Axes>"
            ],
            "image/png": "[encoded data removed]"
          },
          "metadata": {
            "needs_background": "light"
          }
        }
      ]
    }
  ]
}